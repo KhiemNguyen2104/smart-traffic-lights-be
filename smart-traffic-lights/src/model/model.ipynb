{
 "cells": [
  {
   "cell_type": "code",
   "execution_count": null,
   "id": "45da9603",
   "metadata": {},
   "outputs": [],
   "source": [
    "!pip install ultralytics flask-ngrok flask pillow\n",
    "\n",
    "# 🧠 Load YOLOv8 and define vehicle counting function\n",
    "from ultralytics import YOLO\n",
    "from PIL import Image\n",
    "from flask import Flask, request, jsonify\n",
    "from flask_ngrok import run_with_ngrok\n",
    "import io"
   ]
  },
  {
   "cell_type": "code",
   "execution_count": null,
   "id": "2739f731",
   "metadata": {},
   "outputs": [],
   "source": [
    "\n",
    "# Load pre-trained YOLOv8 model (you can replace with custom one if fine-tuned later)\n",
    "model = YOLO('yolov8x.pt')  # You can also use 'yolov8m.pt' or 'yolov8n.pt' for faster speed\n",
    "model.fuse()  # Optimize the model"
   ]
  },
  {
   "cell_type": "code",
   "execution_count": null,
   "id": "6ad2e1e6",
   "metadata": {},
   "outputs": [],
   "source": [
    "# Define the class IDs for vehicle types: car, motorcycle, bus, truck\n",
    "vehicle_class_ids = [2, 3, 5, 7]  # COCO dataset classes"
   ]
  },
  {
   "cell_type": "code",
   "execution_count": null,
   "id": "77734e69",
   "metadata": {},
   "outputs": [],
   "source": [
    "# Vehicle counting logic\n",
    "def count_vehicles(image: Image.Image):\n",
    "    results = model.predict(image, verbose=False)[0]\n",
    "    count = sum(1 for cls in results.boxes.cls if int(cls) in vehicle_class_ids)\n",
    "    return count\n"
   ]
  },
  {
   "cell_type": "code",
   "execution_count": null,
   "id": "a1827a36",
   "metadata": {},
   "outputs": [],
   "source": [
    "# 🔌 Set up Flask server with Ngrok tunnel\n",
    "app = Flask(__name__)\n",
    "run_with_ngrok(app)  # This creates a public URL for the Colab-hosted API\n",
    "\n",
    "@app.route('/count', methods=['POST'])\n",
    "def count_route():\n",
    "    if 'image' not in request.files:\n",
    "        return jsonify({'error': 'No image uploaded'}), 400\n",
    "\n",
    "    img_file = request.files['image']\n",
    "    image = Image.open(img_file.stream).convert(\"RGB\")  # Ensure consistent format\n",
    "    count = count_vehicles(image)\n",
    "    return jsonify({'vehicle_count': count})\n",
    "\n",
    "# 🚀 Start the Flask app\n",
    "print(\"Starting vehicle counting API server...\")\n",
    "app.run()"
   ]
  }
 ],
 "metadata": {
  "language_info": {
   "name": "python"
  }
 },
 "nbformat": 4,
 "nbformat_minor": 5
}
